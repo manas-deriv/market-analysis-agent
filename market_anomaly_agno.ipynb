{
 "cells": [
  {
   "cell_type": "code",
   "execution_count": 1,
   "metadata": {},
   "outputs": [],
   "source": [
    "import os\n",
    "from dotenv import load_dotenv\n",
    "from agno.agent import Agent\n",
    "from agno.models.openai import OpenAIChat\n",
    "from agno.tools.yfinance import YFinanceTools\n",
    "from agno.tools.exa import ExaTools"
   ]
  },
  {
   "cell_type": "code",
   "execution_count": 2,
   "metadata": {},
   "outputs": [],
   "source": [
    "load_dotenv()\n",
    "\n",
    "API_BASE_URL = os.getenv(\"API_BASE_URL\")\n",
    "OPENAI_API_KEY = os.getenv(\"OPENAI_API_KEY\")\n",
    "OPENAI_MODEL_NAME = os.getenv(\"OPENAI_MODEL_NAME\")\n",
    "EXA_API_KEY = os.getenv(\"EXA_API_KEY\")"
   ]
  },
  {
   "cell_type": "code",
   "execution_count": 3,
   "metadata": {},
   "outputs": [],
   "source": [
    "agent_a = Agent(\n",
    "    model=OpenAIChat(id=OPENAI_MODEL_NAME, api_key=OPENAI_API_KEY, base_url=API_BASE_URL),\n",
    "    tools=[YFinanceTools(stock_price=True, historical_prices=True, company_news=True, \n",
    "                         analyst_recommendations=True, company_info=True)],  \n",
    "    show_tool_calls=True,\n",
    "    name=\"Market Data Fetcher\",\n",
    "    description=\"Fetch the latest 7 days of OHLCV data for the provided stock symbol in Unix timestamp format.\",\n",
    "    instructions=[\n",
    "        \"Retrieve the last 7 days of OHLCV (Open, High, Low, Close, Volume) data for the provided stock symbol.\",\n",
    "        \"Ensure the data is `dd-mm-yyyy` format using the formula `(Unix Timestamp - 1000000000) / 86400 + 1970-01-01`. Example: 1739491200000 -> 14-02-2025. Strictly ensure that the calculated date is correct.\",\n",
    "        \"Return data in JSON format with the following structure:\",\n",
    "        \"   - Unix Timestamp\",\n",
    "        \"   - Open\",\n",
    "        \"   - High\",\n",
    "        \"   - Low\",\n",
    "        \"   - Close\",\n",
    "        \"   - Volume.\"\n",
    "    ]\n",
    ")"
   ]
  },
  {
   "cell_type": "code",
   "execution_count": 4,
   "metadata": {},
   "outputs": [],
   "source": [
    "agent_b = Agent(\n",
    "    model=OpenAIChat(id=OPENAI_MODEL_NAME, api_key=OPENAI_API_KEY, base_url=API_BASE_URL),\n",
    "    name=\"Trade Anomaly Detector\",\n",
    "    description=\"Detect anomalies in OHLCV stock data by analyzing percentage change.\",\n",
    "    instructions=[\n",
    "        \"1. **Receive formatted OHLCV data from Agent A (Dates already in the correct `dd-mm-yyyy` format).**\",\n",
    "        \"2. **Calculate daily percentage change using:**\",\n",
    "        \"   - (Close_today - Close_yesterday) / Close_yesterday * 100.\",\n",
    "        \"3. **Flag anomalies if the daily percentage change exceeds ±5%.**\",\n",
    "        \"4. **Ensure the structured JSON output includes:**\",\n",
    "        \"   - Date (dd-mm-yyyy)\",\n",
    "        \"   - Open, High, Low, Close, Volume\",\n",
    "        \"   - Percent Change\",\n",
    "        \"   - Anomaly (YES/NO).\",\n",
    "        \"5. **Send processed OHLCV data with anomalies to Agent C for financial news analysis.**\"\n",
    "    ]\n",
    ")"
   ]
  },
  {
   "cell_type": "code",
   "execution_count": 5,
   "metadata": {},
   "outputs": [],
   "source": [
    "agent_c = Agent(\n",
    "    model=OpenAIChat(id=OPENAI_MODEL_NAME, api_key=OPENAI_API_KEY, base_url=API_BASE_URL),\n",
    "    name=\"News Analysis Agent\",\n",
    "    tools=[\n",
    "        YFinanceTools(company_news=True),  \n",
    "        ExaTools(include_domains=[\n",
    "            \"cnbc.com\", \"reuters.com\", \"bloomberg.com\", \n",
    "            \"marketwatch.com\", \"cnn.com\", \"moneycontrol.com\", \n",
    "            \"investing.com\", \"ft.com\", \"finance.yahoo.com\"\n",
    "        ])  \n",
    "    ],\n",
    "    description=\"Fetches relevant financial news using OHLCV data from Agent B.\",\n",
    "    instructions=[\n",
    "        \"1. **Use ONLY the OHLCV table received from Agent B. Do NOT request the table separately.**\",\n",
    "        \"2. **Assume the OHLCV data has already been transferred in JSON format.**\",\n",
    "        \"3. **Fetch relevant financial news for the past 7 days covering all stock movements in the table, highlighting anomalies.**\",\n",
    "        \"4. **Prioritize news impacting stock movement, including earnings, macroeconomic trends, industry shifts, and regulatory changes. Use Exa to fetch news.**\",\n",
    "        \"5. **For each news article, provide:**\",\n",
    "        \"   - **Headline & Source link**\",\n",
    "        \"   - **Detailed Analysis** (Minimum 3-4 sentences covering stock impact, investor sentiment, and market reactions).\",\n",
    "    ]\n",
    ")"
   ]
  },
  {
   "cell_type": "code",
   "execution_count": 6,
   "metadata": {},
   "outputs": [],
   "source": [
    "agent_d = Agent(\n",
    "    model=OpenAIChat(id=OPENAI_MODEL_NAME, api_key=OPENAI_API_KEY, base_url=API_BASE_URL),\n",
    "    name=\"Sentiment Analysis Agent\",\n",
    "    description=\"Analyze sentiment from financial news articles related to a specific stock over the past 7 days.\",\n",
    "    instructions=[\n",
    "        \"1. **Receive financial news articles from Agent C covering the entire 7-day period.**\",\n",
    "        \"2. **Perform sentiment analysis on the stock news using NLP techniques.**\",\n",
    "        \"3. **Determine sentiment distribution as a percentage split (bullish vs bearish).**\",\n",
    "        \"   - A higher bullish percentage indicates positive market sentiment.\",\n",
    "        \"   - A higher bearish percentage indicates negative market sentiment.\",\n",
    "        \"4. **Extract key phrases and tone from each article to justify the sentiment rating.**\",\n",
    "        \"5. **Provide a structured sentiment summary including:**\",\n",
    "        \"   - **Bullish sentiment percentage (e.g., 70% bullish).**\",\n",
    "        \"   - **Bearish sentiment percentage (e.g., 30% bearish).**\",\n",
    "        \"   - **Key phrases that justify the sentiment rating.**\",\n",
    "        \"   - **Explain sentiment shifts in relation to OHLCV data anomalies and market trends.**\",\n",
    "        \"6. **Pass structured sentiment insights to Market Analysis Team.**\"\n",
    "    ],\n",
    ")"
   ]
  },
  {
   "cell_type": "code",
   "execution_count": 7,
   "metadata": {},
   "outputs": [],
   "source": [
    "market_analysis_team = Agent(\n",
    "    name=\"Market Analysis Team\",\n",
    "    model=OpenAIChat(id=OPENAI_MODEL_NAME, api_key=OPENAI_API_KEY, base_url=API_BASE_URL),\n",
    "    team=[agent_a, agent_b, agent_c], \n",
    "    instructions=[\n",
    "        \"1. **Agent A must fetch the latest OHLCV data for the provided stock symbol, and pass it to Agent B.**\",\n",
    "        \"2. **Agent B must detect anomalies in the OHLCV data and immediately pass the structured OHLCV table to Agent C.**\",\n",
    "        \"3. Agent C must use ONLY the OHLCV table received from Agent B to fetch financial news.\"\n",
    "        \"4. **Generate a well-structured final report including:**\",\n",
    "        \"   - **OHLCV Data Table (with anomalies and daily percentage changes) from Agent B.**\",\n",
    "        \"   - **Comprehensive News Analysis (covering all stock movements, not just anomalies) from Agent C with the source hyperlink.**\",\n",
    "        \"   - **Conclusion summarizing stock trends, news impacts, and investment considerations.**\",\n",
    "        \"5. **Ensure formatting consistency across all sections before compiling the final report.**\",\n",
    "    ],\n",
    "    show_tool_calls=True,\n",
    "    markdown=True,\n",
    ")"
   ]
  },
  {
   "cell_type": "code",
   "execution_count": 8,
   "metadata": {},
   "outputs": [
    {
     "data": {
      "application/vnd.jupyter.widget-view+json": {
       "model_id": "aba4603a60cb4886a7dd703368d3f71d",
       "version_major": 2,
       "version_minor": 0
      },
      "text/plain": [
       "Output()"
      ]
     },
     "metadata": {},
     "output_type": "display_data"
    },
    {
     "data": {
      "text/html": [
       "<pre style=\"white-space:pre;overflow-x:auto;line-height:normal;font-family:Menlo,'DejaVu Sans Mono',consolas,'Courier New',monospace\"></pre>\n"
      ],
      "text/plain": []
     },
     "metadata": {},
     "output_type": "display_data"
    }
   ],
   "source": [
    "market_analysis_team.print_response(\"Analyze real-time stock anomalies and news for TSLA\", debug=True, stream=True)"
   ]
  }
 ],
 "metadata": {
  "kernelspec": {
   "display_name": ".venv",
   "language": "python",
   "name": "python3"
  },
  "language_info": {
   "codemirror_mode": {
    "name": "ipython",
    "version": 3
   },
   "file_extension": ".py",
   "mimetype": "text/x-python",
   "name": "python",
   "nbconvert_exporter": "python",
   "pygments_lexer": "ipython3",
   "version": "3.12.3"
  }
 },
 "nbformat": 4,
 "nbformat_minor": 2
}
